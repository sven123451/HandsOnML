{
 "cells": [
  {
   "cell_type": "code",
   "execution_count": 15,
   "metadata": {},
   "outputs": [],
   "source": [
    "from IPython.core.interactiveshell import InteractiveShell\n",
    "InteractiveShell.ast_node_interactivity = \"all\""
   ]
  },
  {
   "cell_type": "markdown",
   "metadata": {},
   "source": [
    "# Introduction to Artificial Neural Networks with Keras"
   ]
  },
  {
   "cell_type": "markdown",
   "metadata": {},
   "source": [
    "Firstly for future reference, when should you use Keras or TensorFlow for building neural networks\n",
    "\n",
    "    Keras:\n",
    "        \n",
    "        Very easy to use, great for beginners\n",
    "\n",
    "        Limited to high-level APIs\n",
    "\n",
    "        Less control over low-level details\n",
    "        \n",
    "        For prototyping and standard models\n",
    "\n",
    "        Runs on top of Tensorflow\n",
    "    \n",
    "    Tensorflow\n",
    "\n",
    "        Steeper learning curve, more complex\n",
    "\n",
    "        Highly flexible, supports custom workflows\n",
    "\n",
    "        Full control over every aspect of the model\n",
    "\n",
    "        Research, custom models, production\n"
   ]
  },
  {
   "cell_type": "markdown",
   "metadata": {},
   "source": [
    "## ANNs and Examples\n",
    "\n",
    "ANNs are ML models that are inspired by the networks of biological neurons found in our brains. ANNs are at the very core of deep learning. They are versatile, powerful, and scalable, making them ideal to tackle large and highly complex machine learning tasks such as classifying billions of images, powering speech recognition services, recommending the best videos to watch to hundreds of millions of users every day, or learning to beat the world champion at the game of go."
   ]
  },
  {
   "cell_type": "markdown",
   "metadata": {},
   "source": [
    "### The Perceptron"
   ]
  },
  {
   "cell_type": "markdown",
   "metadata": {},
   "source": [
    "The perceptron is one of the simples ANN architectures, invented in 1957 by Frank Rosenblatt. It is based on a slightly different artiical neuron called a threshold logic unit (TLU), or sometimes a linear threshold unit (LTU). The inputs and output are numbers (instead of binary on/off values), and each input connection is associated with a weight. The TLU first computes a linear function of its inputs, then it applies a step function to the result. So we can see it almost like logistic regression, except it uses a step function instead of the logistic function. Just like in logistic regression, the model parameters are the input weights w and the bias term b. \n",
    "\n",
    "A single TLU can be used for simple linear binary classification, it computes a linear function of its inputs, and if the result exceeds a threshold, it outputs the positive class. A perceptron is composed of one of more TLUs organized in a single layer, where every TLU is connected to every input. This layer is called a fully connected layer or dense layer. The inputs constitute the input lyaer, and since the layer of TLUs produces the final outputs, it is called the output layer. For example, a  perceptron with 2 inputs and 3 TLUs could classify instances simultaneouslt into three different binary classes, making it a multilabel classifier. "
   ]
  },
  {
   "cell_type": "code",
   "execution_count": 3,
   "metadata": {},
   "outputs": [],
   "source": [
    "import numpy as np\n",
    "from sklearn.datasets import load_iris\n",
    "from sklearn.linear_model import Perceptron\n",
    "\n",
    "iris = load_iris(as_frame=True)\n",
    "X = iris.data[[\"petal length (cm)\", \"petal width (cm)\"]].values\n",
    "y = (iris.target == 0) #Iris setosa\n",
    "\n",
    "per_clf = Perceptron(random_state = 42)\n",
    "per_clf.fit(X,y)\n",
    "X_new = [[2,0.5],[3,1]]\n",
    "y_pred = per_clf.predict(X_new) # predicts True and False for these 2 flowers"
   ]
  },
  {
   "cell_type": "markdown",
   "metadata": {},
   "source": [
    "### The Multilayer Perceptron and Backpropagation\n",
    "\n",
    "Some of the limitations of perceptrons can eb elimated by stacking multiple perceptrons (layers). The resulting ANN is called a multilayer perceptron (MLP). An MLP is composed of one input layer, one or more layers of TLUs called hidden layers, and one final layer of TLUs called the output layer. The layers close to the input are usually called the lower layers, and the ones close to the outputs are usually called the upper layers.\n",
    "\n",
    "When an ANN contains a deep stack of hidden layers, it is called a deep neural network (DNN). The field of deep learning studies DNNs, and more generally it is interested in models containing deep stacks of computations"
   ]
  },
  {
   "cell_type": "markdown",
   "metadata": {},
   "source": [
    "#### So then, how are MLP Models Trained?\n",
    "\n",
    "For many years MLPs could not be created as researchers failed to find ways to train them. At first gradient descent was proposed, which computed the gradients of the model's error with regard to model parameters, however this was unfeasible with computational limitations and no clear method of doing so.\n",
    "\n",
    "Then, the reverse-mode automatic differentiation algorithm was proposed. The reverse mode auto diff can compute the gradients of the neural network's error with regard to every single model parameter in just two passes (one forward, one backward) of the network. In other words, it can find out how each connection weight/bias should be tweaked in order to reduce the neural network's error. These gradients can then be used to perform a gradient descent step. If you repeat this process of computing the gradients automatically and taking a gradient descent step, the neural network's error will gradually drop until it eventually reaches a minimum. This combination of reverse-mode autodiff and gradient descent is now called backpropagation. "
   ]
  },
  {
   "cell_type": "markdown",
   "metadata": {},
   "source": [
    "#### Backpropagation Step by Step\n",
    "\n",
    "    Handles one mini-batch at a time (for example containing 32 instances each), and it goes through the full training set multiple times. Each pass is called an epoch.\n",
    "\n",
    "    Each mini-batch enters the network through the input layer. The algorithm then computes the output of all the neurons in the first hidden layer, for every instance in the mini-batch. The result is apsssed onto the next layer, its output is computed etc. until we get the ouput of the output layer. This is the forward-pass, it is exactly like making predictions, except all intermediate results are preserved since they are needed for the backwards pass.\n",
    "\n",
    "    Next, the backprop algorithm measures the network's output error (ie, using a loss function that computes the desired output and actual output of the nerwork, returning some measure of the error).\n",
    "\n",
    "    Then it computes how much each output bias and connection to the output layer contributed to the error. The algorithm subsequently measures how much each of these error contributions came from each connection in the layer below, again using the chain rule, working backwards until it raches the input layer. \n",
    "\n",
    "    This reverse pass efficiently measures the error gradient across all the connection weights and biases in the network by propagating the error gradient backward through the network.\n",
    "\n",
    "    Finally, the algorithm performs a gradient descent step to tweak all the connection weights in the network, using the error gradients it just computed."
   ]
  },
  {
   "cell_type": "markdown",
   "metadata": {},
   "source": [
    "### Regression MLPs\n",
    "\n",
    "First, MLPs can be used for regression tasks. If you want to predict a single vlaue (e.g the price of a house, given many of its features), then you just need a single output neuron: its output is the predicted value. \n",
    "\n",
    "For multivariate regression (i.e to predict multiple values at once), you need one output neuron per output dimension. \n"
   ]
  },
  {
   "cell_type": "code",
   "execution_count": 4,
   "metadata": {},
   "outputs": [
    {
     "name": "stdout",
     "output_type": "stream",
     "text": [
      "0.25536110312136884\n",
      "0.5053326657968678\n"
     ]
    }
   ],
   "source": [
    "from sklearn.datasets import fetch_california_housing\n",
    "from sklearn.metrics import mean_squared_error\n",
    "from sklearn.model_selection import train_test_split\n",
    "from sklearn.neural_network import MLPRegressor\n",
    "from sklearn.pipeline import make_pipeline\n",
    "from sklearn.preprocessing import StandardScaler\n",
    "#Fetching and splitting the dataset\n",
    "housing = fetch_california_housing()\n",
    "X_train_full, X_test, y_train_full, y_test = train_test_split(\n",
    "    housing.data, housing.target, random_state = 42)\n",
    "X_train, X_valid, y_train, y_valid = train_test_split(\n",
    "    X_train_full, y_train_full, random_state = 42)\n",
    "#creates a pipeline to standardize the input features before sending them to \n",
    "#MLP regressor, in practice this would be feature engineering\n",
    "#this step is important for neural networks because they are trained using\n",
    "#gradient descent, which does not converge well when features have different scales\n",
    "\n",
    "mlp_reg = MLPRegressor(hidden_layer_sizes=[50,50,50], random_state=42)\n",
    "pipeline = make_pipeline(StandardScaler(), mlp_reg)\n",
    "\n",
    "#we then train the model and evaluate its validation error\n",
    "pipeline.fit(X_train, y_train)\n",
    "y_pred = pipeline.predict(X_valid)\n",
    "mse = mean_squared_error(y_valid, y_pred)\n",
    "print(mse)\n",
    "\n",
    "rmse = mse ** 0.5\n",
    "\n",
    "print(rmse)\n",
    "\n",
    "#Continue from p.g 314"
   ]
  },
  {
   "cell_type": "markdown",
   "metadata": {},
   "source": [
    "MLP regressor uses ReLU activation functions for the hidden layers, but fails to use it on the output layer. This is a limitation of the MLPRegressor class as it does not support any activation functions on the output layer. This is why scikit-learn is not optimal for creating these kinds of models."
   ]
  },
  {
   "cell_type": "markdown",
   "metadata": {},
   "source": [
    "## Implementing MLPs with Keras"
   ]
  },
  {
   "cell_type": "markdown",
   "metadata": {},
   "source": [
    "Keras is TensorFlow's high-lelve deep learning API, allowing you to build, train, evaluate, and execute all sorts of neural networks. The first MLP we will build with Keras is a Classification MLP."
   ]
  },
  {
   "cell_type": "markdown",
   "metadata": {},
   "source": [
    "### What is a Classification MLP?\n",
    "\n",
    "MLPs can handle both binary and multilabel classification tasks. For example an email classifcation system that predicts whether each email is ham or spam, and also whether it is urgent or nonurgent. \n",
    "\n",
    "If each instance (input) can only belong to a single class, out of 3 or more possible classes (e.g 0-9 for image of numbers classification), we need to have one output neuron per class, and we should use the softmax activation function for the whole output layer.\n",
    "\n",
    "    Softmax Function: Activation function which ensures that all estimated probabilities are between 0 and 1, and that they add up to 1, since the calsses are exclusive. This achieves the same end goal as our multiclass classification in Chapter 3. \n",
    "\n",
    "For our loss function, we should use the cross-entropy loss (x-entropy) function as we are predicting probability distributions.\n",
    "\n",
    "    Interpretation: Cross-entropy measures the \"distance\" between the true distribution and the predicted distribution in terms of probability.\n",
    "\n",
    "    Probabilistic Output: The softmax function ensures that the output is a valid probability distribution (sums to 1), making it natural to use cross-entropy.\n",
    "\n",
    "    Focus on Correct Class: The loss strongly penalizes incorrect predictions and rewards high confidence in correct predictions."
   ]
  },
  {
   "cell_type": "markdown",
   "metadata": {},
   "source": [
    "### Building an Image Classifier Using the Sequential API (Keras and Fashion MNIST)"
   ]
  },
  {
   "cell_type": "markdown",
   "metadata": {},
   "source": [
    "The Fashion MNIST is a drop-in replacement of MNIST, where the images represent fashion items rather than handwritten digits. This makes the classification task far more complex."
   ]
  },
  {
   "cell_type": "code",
   "execution_count": 5,
   "metadata": {},
   "outputs": [],
   "source": [
    "import tensorflow as tf\n",
    "\n",
    "#The dataset is already shuffled and split into training and test sets, so we just need to hold out on the last 5,000 images\n",
    "#from the training set to use as a validation set\n",
    "fashion_mnist = tf.keras.datasets.fashion_mnist.load_data()\n",
    "#tensorflow is usually imported as tf, and the Keras API is available via tf.keras\n",
    "(X_train_full, y_train_full), (X_test, y_test) = fashion_mnist\n",
    "X_train, y_train = X_train_full[:-5000], y_train_full[:-5000]\n",
    "X_valid, y_valid = X_train_full[-5000:], y_train_full[-5000:]\n",
    "\n",
    "#For simplicity, we'll scale the pixel intensities down to the 0-1 range by dividing them by 255.0 (this also converts them to floats)\n",
    "X_train, X_valid, X_test = X_train / 255., X_valid / 255., X_test/255.\n"
   ]
  },
  {
   "cell_type": "code",
   "execution_count": 6,
   "metadata": {},
   "outputs": [
    {
     "data": {
      "text/plain": [
       "'Ankle boot'"
      ]
     },
     "execution_count": 6,
     "metadata": {},
     "output_type": "execute_result"
    }
   ],
   "source": [
    "#We first manually define a list of class names that correspond to the \n",
    "#numerical labels in the Fashion MNIST dataset\n",
    "class_names = [\"T-shirt/top\", \"Trouser\", \"Pullover\", \"Dress\", \"Coat\", \"Sandal\", \"Shirt\", \"Sneaker\", \"Bag\", \"Ankle boot\"]\n",
    "#y_train[0] gets the numerical label of the first training image (9)\n",
    "#we use this number as an index into class_names which returns Ankle boot\n",
    "class_names[y_train[0]]"
   ]
  },
  {
   "cell_type": "code",
   "execution_count": null,
   "metadata": {},
   "outputs": [
    {
     "data": {
      "text/html": [
       "<pre style=\"white-space:pre;overflow-x:auto;line-height:normal;font-family:Menlo,'DejaVu Sans Mono',consolas,'Courier New',monospace\"><span style=\"font-weight: bold\">Model: \"sequential\"</span>\n",
       "</pre>\n"
      ],
      "text/plain": [
       "\u001b[1mModel: \"sequential\"\u001b[0m\n"
      ]
     },
     "metadata": {},
     "output_type": "display_data"
    },
    {
     "data": {
      "text/html": [
       "<pre style=\"white-space:pre;overflow-x:auto;line-height:normal;font-family:Menlo,'DejaVu Sans Mono',consolas,'Courier New',monospace\">┏━━━━━━━━━━━━━━━━━━━━━━━━━━━━━━━━━┳━━━━━━━━━━━━━━━━━━━━━━━━┳━━━━━━━━━━━━━━━┓\n",
       "┃<span style=\"font-weight: bold\"> Layer (type)                    </span>┃<span style=\"font-weight: bold\"> Output Shape           </span>┃<span style=\"font-weight: bold\">       Param # </span>┃\n",
       "┡━━━━━━━━━━━━━━━━━━━━━━━━━━━━━━━━━╇━━━━━━━━━━━━━━━━━━━━━━━━╇━━━━━━━━━━━━━━━┩\n",
       "│ flatten (<span style=\"color: #0087ff; text-decoration-color: #0087ff\">Flatten</span>)               │ (<span style=\"color: #00d7ff; text-decoration-color: #00d7ff\">None</span>, <span style=\"color: #00af00; text-decoration-color: #00af00\">784</span>)            │             <span style=\"color: #00af00; text-decoration-color: #00af00\">0</span> │\n",
       "├─────────────────────────────────┼────────────────────────┼───────────────┤\n",
       "│ dense (<span style=\"color: #0087ff; text-decoration-color: #0087ff\">Dense</span>)                   │ (<span style=\"color: #00d7ff; text-decoration-color: #00d7ff\">None</span>, <span style=\"color: #00af00; text-decoration-color: #00af00\">300</span>)            │       <span style=\"color: #00af00; text-decoration-color: #00af00\">235,500</span> │\n",
       "├─────────────────────────────────┼────────────────────────┼───────────────┤\n",
       "│ dense_1 (<span style=\"color: #0087ff; text-decoration-color: #0087ff\">Dense</span>)                 │ (<span style=\"color: #00d7ff; text-decoration-color: #00d7ff\">None</span>, <span style=\"color: #00af00; text-decoration-color: #00af00\">100</span>)            │        <span style=\"color: #00af00; text-decoration-color: #00af00\">30,100</span> │\n",
       "├─────────────────────────────────┼────────────────────────┼───────────────┤\n",
       "│ dense_2 (<span style=\"color: #0087ff; text-decoration-color: #0087ff\">Dense</span>)                 │ (<span style=\"color: #00d7ff; text-decoration-color: #00d7ff\">None</span>, <span style=\"color: #00af00; text-decoration-color: #00af00\">10</span>)             │         <span style=\"color: #00af00; text-decoration-color: #00af00\">1,010</span> │\n",
       "└─────────────────────────────────┴────────────────────────┴───────────────┘\n",
       "</pre>\n"
      ],
      "text/plain": [
       "┏━━━━━━━━━━━━━━━━━━━━━━━━━━━━━━━━━┳━━━━━━━━━━━━━━━━━━━━━━━━┳━━━━━━━━━━━━━━━┓\n",
       "┃\u001b[1m \u001b[0m\u001b[1mLayer (type)                   \u001b[0m\u001b[1m \u001b[0m┃\u001b[1m \u001b[0m\u001b[1mOutput Shape          \u001b[0m\u001b[1m \u001b[0m┃\u001b[1m \u001b[0m\u001b[1m      Param #\u001b[0m\u001b[1m \u001b[0m┃\n",
       "┡━━━━━━━━━━━━━━━━━━━━━━━━━━━━━━━━━╇━━━━━━━━━━━━━━━━━━━━━━━━╇━━━━━━━━━━━━━━━┩\n",
       "│ flatten (\u001b[38;5;33mFlatten\u001b[0m)               │ (\u001b[38;5;45mNone\u001b[0m, \u001b[38;5;34m784\u001b[0m)            │             \u001b[38;5;34m0\u001b[0m │\n",
       "├─────────────────────────────────┼────────────────────────┼───────────────┤\n",
       "│ dense (\u001b[38;5;33mDense\u001b[0m)                   │ (\u001b[38;5;45mNone\u001b[0m, \u001b[38;5;34m300\u001b[0m)            │       \u001b[38;5;34m235,500\u001b[0m │\n",
       "├─────────────────────────────────┼────────────────────────┼───────────────┤\n",
       "│ dense_1 (\u001b[38;5;33mDense\u001b[0m)                 │ (\u001b[38;5;45mNone\u001b[0m, \u001b[38;5;34m100\u001b[0m)            │        \u001b[38;5;34m30,100\u001b[0m │\n",
       "├─────────────────────────────────┼────────────────────────┼───────────────┤\n",
       "│ dense_2 (\u001b[38;5;33mDense\u001b[0m)                 │ (\u001b[38;5;45mNone\u001b[0m, \u001b[38;5;34m10\u001b[0m)             │         \u001b[38;5;34m1,010\u001b[0m │\n",
       "└─────────────────────────────────┴────────────────────────┴───────────────┘\n"
      ]
     },
     "metadata": {},
     "output_type": "display_data"
    },
    {
     "data": {
      "text/html": [
       "<pre style=\"white-space:pre;overflow-x:auto;line-height:normal;font-family:Menlo,'DejaVu Sans Mono',consolas,'Courier New',monospace\"><span style=\"font-weight: bold\"> Total params: </span><span style=\"color: #00af00; text-decoration-color: #00af00\">266,610</span> (1.02 MB)\n",
       "</pre>\n"
      ],
      "text/plain": [
       "\u001b[1m Total params: \u001b[0m\u001b[38;5;34m266,610\u001b[0m (1.02 MB)\n"
      ]
     },
     "metadata": {},
     "output_type": "display_data"
    },
    {
     "data": {
      "text/html": [
       "<pre style=\"white-space:pre;overflow-x:auto;line-height:normal;font-family:Menlo,'DejaVu Sans Mono',consolas,'Courier New',monospace\"><span style=\"font-weight: bold\"> Trainable params: </span><span style=\"color: #00af00; text-decoration-color: #00af00\">266,610</span> (1.02 MB)\n",
       "</pre>\n"
      ],
      "text/plain": [
       "\u001b[1m Trainable params: \u001b[0m\u001b[38;5;34m266,610\u001b[0m (1.02 MB)\n"
      ]
     },
     "metadata": {},
     "output_type": "display_data"
    },
    {
     "data": {
      "text/html": [
       "<pre style=\"white-space:pre;overflow-x:auto;line-height:normal;font-family:Menlo,'DejaVu Sans Mono',consolas,'Courier New',monospace\"><span style=\"font-weight: bold\"> Non-trainable params: </span><span style=\"color: #00af00; text-decoration-color: #00af00\">0</span> (0.00 B)\n",
       "</pre>\n"
      ],
      "text/plain": [
       "\u001b[1m Non-trainable params: \u001b[0m\u001b[38;5;34m0\u001b[0m (0.00 B)\n"
      ]
     },
     "metadata": {},
     "output_type": "display_data"
    }
   ],
   "source": [
    "#Creating the model using the sequential API\n",
    "\n",
    "tf.random.set_seed(42) #sets random seed for tensorflow\n",
    "# tf.keras.utils.set_random_seed() is an alternative which sets the randomseed for Tensorflow, \n",
    "#python and NumPy\n",
    "\n",
    "#Sequential model is the simplest kind of Keras model for neural networks only composed of a \n",
    "#single stack of layers connected sequentially. This is called the sequential APi\n",
    "model = tf.keras.Sequential()\n",
    "#next we build the input layer and add it to the model\n",
    "model.add(tf.keras.layers.Input(shape=[28,28]))\n",
    "model.add(tf.keras.layers.Flatten()) #flatten layer converts each input image to a 1d array\n",
    "#Dense layers have a certain amount of neurons and an activation function\n",
    "#Each layer manages its own weight matrix, containing all the connection weights between the \n",
    "#neurons and their inputs\n",
    "#It also manages a vector of bias terms (one per neuron)\n",
    "model.add(tf.keras.layers.Dense(300, activation=\"relu\"))\n",
    "model.add(tf.keras.layers.Dense(100, activation=\"relu\"))\n",
    "model.add(tf.keras.layers.Dense(10, activation=\"softmax\"))\n",
    "\n",
    "model.summary() #This method displays all the model's layers, including each layer's name\n",
    "#and it's number of parameters."
   ]
  },
  {
   "cell_type": "markdown",
   "metadata": {},
   "source": [
    "Note that dense layers often have a lot of parameters, For example the first hidden layer (dense) has 784 x 300 connection weights, plus 300 bias terms, which adds up to 235,500 parameters. This gives the model quite a lot of flexibility to fit the training data, but also means the model runs the risk of overfitting, especially when we don't have a lot of training data."
   ]
  },
  {
   "cell_type": "code",
   "execution_count": 13,
   "metadata": {},
   "outputs": [
    {
     "data": {
      "text/plain": [
       "True"
      ]
     },
     "execution_count": 13,
     "metadata": {},
     "output_type": "execute_result"
    }
   ],
   "source": [
    "#We can get a model's list of layers using the layers attribute, or using the\n",
    "#get_layer() method to access a layer by name\n",
    "\n",
    "model.layers\n",
    "\n",
    "hidden1 = model.layers[1] #in our case, the layer with index 1 in model is dense_3 as we \n",
    "#created other neural networks previously, this will change depending \n",
    "# on the order that you run the code\n",
    "\n",
    "hidden1.name\n",
    "\n",
    "model.get_layer('dense_3') is hidden1"
   ]
  },
  {
   "cell_type": "code",
   "execution_count": 8,
   "metadata": {},
   "outputs": [
    {
     "name": "stderr",
     "output_type": "stream",
     "text": [
      "/opt/homebrew/Caskroom/miniconda/base/lib/python3.12/site-packages/keras/src/layers/reshaping/flatten.py:37: UserWarning: Do not pass an `input_shape`/`input_dim` argument to a layer. When using Sequential models, prefer using an `Input(shape)` object as the first layer in the model instead.\n",
      "  super().__init__(**kwargs)\n"
     ]
    }
   ],
   "source": [
    "#Instead of adding the layers one by one as in the previous example, it's often more convenient \n",
    "#to pass a list of layers when creating the Sequential model. You can also drop the Input layer\n",
    "#and instead specify the input_shape in the first layer:\n",
    "\n",
    "model = tf.keras.Sequential([\n",
    "    tf.keras.layers.Flatten(input_shape=[28,28]),\n",
    "    tf.keras.layers.Dense(300, activation='relu'),\n",
    "    tf.keras.layers.Dense(100, activation='relu'),\n",
    "    tf.keras.layers.Dense(10, activation='softmax')\n",
    "])"
   ]
  },
  {
   "cell_type": "code",
   "execution_count": 16,
   "metadata": {},
   "outputs": [
    {
     "data": {
      "text/plain": [
       "array([[-0.01905416, -0.0135011 ,  0.03682976, ..., -0.03432151,\n",
       "         0.02697493, -0.06716153],\n",
       "       [ 0.06210591, -0.02984376, -0.02164529, ...,  0.03889368,\n",
       "         0.03622238,  0.06468654],\n",
       "       [-0.05059826, -0.04985394,  0.02094979, ..., -0.04002566,\n",
       "         0.04765008,  0.0345116 ],\n",
       "       ...,\n",
       "       [-0.05960568, -0.06183277, -0.06904332, ..., -0.07217256,\n",
       "        -0.06044647, -0.06770536],\n",
       "       [ 0.03972965,  0.06005622, -0.02595117, ...,  0.00392867,\n",
       "         0.06451987,  0.056135  ],\n",
       "       [ 0.07380764,  0.01734012, -0.0536403 , ...,  0.01524645,\n",
       "         0.01778628, -0.02953833]], dtype=float32)"
      ]
     },
     "execution_count": 16,
     "metadata": {},
     "output_type": "execute_result"
    },
    {
     "data": {
      "text/plain": [
       "(784, 300)"
      ]
     },
     "execution_count": 16,
     "metadata": {},
     "output_type": "execute_result"
    },
    {
     "data": {
      "text/plain": [
       "(300,)"
      ]
     },
     "execution_count": 16,
     "metadata": {},
     "output_type": "execute_result"
    }
   ],
   "source": [
    "#All parameters of a layer can be accessed using the get_weights() and set_weights() methods.\n",
    "#For a dense layer as in our Sequential model, this includes both connection weights/bias term\n",
    "\n",
    "weights, biases = hidden1.get_weights() #get_weights returns arrays of biases, weights\n",
    "\n",
    "weights #we seperate them into weights and biases respectively and then we can inspect them\n",
    "weights.shape\n",
    "\n",
    "biases.shape"
   ]
  },
  {
   "cell_type": "code",
   "execution_count": 21,
   "metadata": {},
   "outputs": [],
   "source": [
    "#After the model is created, you must call its compile() method to specify the loss function\n",
    "#and the optimizer to use. Optionally, you can specify a list of extra metrics to compute\n",
    "#during training and evaluation\n",
    "\n",
    "model.compile(loss=\"sparse_categorical_crossentropy\",\n",
    "              optimizer='sgd',\n",
    "              metrics=[\"accuracy\"])"
   ]
  },
  {
   "cell_type": "markdown",
   "metadata": {},
   "source": [
    "We use the 'sparse_categorical_crossentropy' loss function because we have sparse labels (i.e, for each instance, there is just a target class index from 0- and the classes are exclusive). If instead we had one target probability per class for each instance (e.g one-hot vectors) then we would need to use the 'categorical_crossentropy' loss instead. If we were doing binary classification or multilabel binary classification, then we would use the 'sigmoid' activation function in the output layer instead of the softmax activation function, and we would use the binary_crossentropy loss function."
   ]
  },
  {
   "cell_type": "markdown",
   "metadata": {},
   "source": [
    "#### Training and evaluating the model"
   ]
  },
  {
   "cell_type": "code",
   "execution_count": 22,
   "metadata": {},
   "outputs": [
    {
     "name": "stdout",
     "output_type": "stream",
     "text": [
      "Epoch 1/30\n",
      "\u001b[1m1719/1719\u001b[0m \u001b[32m━━━━━━━━━━━━━━━━━━━━\u001b[0m\u001b[37m\u001b[0m \u001b[1m1s\u001b[0m 731us/step - accuracy: 0.6722 - loss: 1.0187 - val_accuracy: 0.8216 - val_loss: 0.5233\n",
      "Epoch 2/30\n",
      "\u001b[1m1719/1719\u001b[0m \u001b[32m━━━━━━━━━━━━━━━━━━━━\u001b[0m\u001b[37m\u001b[0m \u001b[1m1s\u001b[0m 641us/step - accuracy: 0.8231 - loss: 0.5136 - val_accuracy: 0.8354 - val_loss: 0.4698\n",
      "Epoch 3/30\n",
      "\u001b[1m1719/1719\u001b[0m \u001b[32m━━━━━━━━━━━━━━━━━━━━\u001b[0m\u001b[37m\u001b[0m \u001b[1m1s\u001b[0m 639us/step - accuracy: 0.8402 - loss: 0.4583 - val_accuracy: 0.8454 - val_loss: 0.4437\n",
      "Epoch 4/30\n",
      "\u001b[1m1719/1719\u001b[0m \u001b[32m━━━━━━━━━━━━━━━━━━━━\u001b[0m\u001b[37m\u001b[0m \u001b[1m1s\u001b[0m 640us/step - accuracy: 0.8501 - loss: 0.4273 - val_accuracy: 0.8484 - val_loss: 0.4240\n",
      "Epoch 5/30\n",
      "\u001b[1m1719/1719\u001b[0m \u001b[32m━━━━━━━━━━━━━━━━━━━━\u001b[0m\u001b[37m\u001b[0m \u001b[1m1s\u001b[0m 657us/step - accuracy: 0.8585 - loss: 0.4052 - val_accuracy: 0.8544 - val_loss: 0.4097\n",
      "Epoch 6/30\n",
      "\u001b[1m1719/1719\u001b[0m \u001b[32m━━━━━━━━━━━━━━━━━━━━\u001b[0m\u001b[37m\u001b[0m \u001b[1m1s\u001b[0m 642us/step - accuracy: 0.8641 - loss: 0.3879 - val_accuracy: 0.8586 - val_loss: 0.3987\n",
      "Epoch 7/30\n",
      "\u001b[1m1719/1719\u001b[0m \u001b[32m━━━━━━━━━━━━━━━━━━━━\u001b[0m\u001b[37m\u001b[0m \u001b[1m1s\u001b[0m 643us/step - accuracy: 0.8687 - loss: 0.3735 - val_accuracy: 0.8590 - val_loss: 0.3894\n",
      "Epoch 8/30\n",
      "\u001b[1m1719/1719\u001b[0m \u001b[32m━━━━━━━━━━━━━━━━━━━━\u001b[0m\u001b[37m\u001b[0m \u001b[1m1s\u001b[0m 660us/step - accuracy: 0.8726 - loss: 0.3609 - val_accuracy: 0.8620 - val_loss: 0.3819\n",
      "Epoch 9/30\n",
      "\u001b[1m1719/1719\u001b[0m \u001b[32m━━━━━━━━━━━━━━━━━━━━\u001b[0m\u001b[37m\u001b[0m \u001b[1m1s\u001b[0m 637us/step - accuracy: 0.8764 - loss: 0.3497 - val_accuracy: 0.8648 - val_loss: 0.3762\n",
      "Epoch 10/30\n",
      "\u001b[1m1719/1719\u001b[0m \u001b[32m━━━━━━━━━━━━━━━━━━━━\u001b[0m\u001b[37m\u001b[0m \u001b[1m1s\u001b[0m 646us/step - accuracy: 0.8797 - loss: 0.3396 - val_accuracy: 0.8680 - val_loss: 0.3717\n",
      "Epoch 11/30\n",
      "\u001b[1m1719/1719\u001b[0m \u001b[32m━━━━━━━━━━━━━━━━━━━━\u001b[0m\u001b[37m\u001b[0m \u001b[1m1s\u001b[0m 648us/step - accuracy: 0.8828 - loss: 0.3302 - val_accuracy: 0.8678 - val_loss: 0.3675\n",
      "Epoch 12/30\n",
      "\u001b[1m1719/1719\u001b[0m \u001b[32m━━━━━━━━━━━━━━━━━━━━\u001b[0m\u001b[37m\u001b[0m \u001b[1m1s\u001b[0m 631us/step - accuracy: 0.8860 - loss: 0.3214 - val_accuracy: 0.8696 - val_loss: 0.3637\n",
      "Epoch 13/30\n",
      "\u001b[1m1719/1719\u001b[0m \u001b[32m━━━━━━━━━━━━━━━━━━━━\u001b[0m\u001b[37m\u001b[0m \u001b[1m1s\u001b[0m 643us/step - accuracy: 0.8884 - loss: 0.3130 - val_accuracy: 0.8698 - val_loss: 0.3601\n",
      "Epoch 14/30\n",
      "\u001b[1m1719/1719\u001b[0m \u001b[32m━━━━━━━━━━━━━━━━━━━━\u001b[0m\u001b[37m\u001b[0m \u001b[1m1s\u001b[0m 680us/step - accuracy: 0.8909 - loss: 0.3053 - val_accuracy: 0.8702 - val_loss: 0.3584\n",
      "Epoch 15/30\n",
      "\u001b[1m1719/1719\u001b[0m \u001b[32m━━━━━━━━━━━━━━━━━━━━\u001b[0m\u001b[37m\u001b[0m \u001b[1m1s\u001b[0m 658us/step - accuracy: 0.8930 - loss: 0.2981 - val_accuracy: 0.8704 - val_loss: 0.3577\n",
      "Epoch 16/30\n",
      "\u001b[1m1719/1719\u001b[0m \u001b[32m━━━━━━━━━━━━━━━━━━━━\u001b[0m\u001b[37m\u001b[0m \u001b[1m1s\u001b[0m 734us/step - accuracy: 0.8951 - loss: 0.2914 - val_accuracy: 0.8706 - val_loss: 0.3569\n",
      "Epoch 17/30\n",
      "\u001b[1m1719/1719\u001b[0m \u001b[32m━━━━━━━━━━━━━━━━━━━━\u001b[0m\u001b[37m\u001b[0m \u001b[1m1s\u001b[0m 682us/step - accuracy: 0.8975 - loss: 0.2852 - val_accuracy: 0.8702 - val_loss: 0.3563\n",
      "Epoch 18/30\n",
      "\u001b[1m1719/1719\u001b[0m \u001b[32m━━━━━━━━━━━━━━━━━━━━\u001b[0m\u001b[37m\u001b[0m \u001b[1m1s\u001b[0m 619us/step - accuracy: 0.8996 - loss: 0.2790 - val_accuracy: 0.8692 - val_loss: 0.3559\n",
      "Epoch 19/30\n",
      "\u001b[1m1719/1719\u001b[0m \u001b[32m━━━━━━━━━━━━━━━━━━━━\u001b[0m\u001b[37m\u001b[0m \u001b[1m1s\u001b[0m 780us/step - accuracy: 0.9016 - loss: 0.2734 - val_accuracy: 0.8694 - val_loss: 0.3558\n",
      "Epoch 20/30\n",
      "\u001b[1m1719/1719\u001b[0m \u001b[32m━━━━━━━━━━━━━━━━━━━━\u001b[0m\u001b[37m\u001b[0m \u001b[1m1s\u001b[0m 678us/step - accuracy: 0.9044 - loss: 0.2678 - val_accuracy: 0.8724 - val_loss: 0.3548\n",
      "Epoch 21/30\n",
      "\u001b[1m1719/1719\u001b[0m \u001b[32m━━━━━━━━━━━━━━━━━━━━\u001b[0m\u001b[37m\u001b[0m \u001b[1m1s\u001b[0m 657us/step - accuracy: 0.9060 - loss: 0.2625 - val_accuracy: 0.8720 - val_loss: 0.3562\n",
      "Epoch 22/30\n",
      "\u001b[1m1719/1719\u001b[0m \u001b[32m━━━━━━━━━━━━━━━━━━━━\u001b[0m\u001b[37m\u001b[0m \u001b[1m1s\u001b[0m 671us/step - accuracy: 0.9082 - loss: 0.2574 - val_accuracy: 0.8722 - val_loss: 0.3553\n",
      "Epoch 23/30\n",
      "\u001b[1m1719/1719\u001b[0m \u001b[32m━━━━━━━━━━━━━━━━━━━━\u001b[0m\u001b[37m\u001b[0m \u001b[1m1s\u001b[0m 649us/step - accuracy: 0.9101 - loss: 0.2524 - val_accuracy: 0.8724 - val_loss: 0.3560\n",
      "Epoch 24/30\n",
      "\u001b[1m1719/1719\u001b[0m \u001b[32m━━━━━━━━━━━━━━━━━━━━\u001b[0m\u001b[37m\u001b[0m \u001b[1m1s\u001b[0m 652us/step - accuracy: 0.9122 - loss: 0.2479 - val_accuracy: 0.8732 - val_loss: 0.3541\n",
      "Epoch 25/30\n",
      "\u001b[1m1719/1719\u001b[0m \u001b[32m━━━━━━━━━━━━━━━━━━━━\u001b[0m\u001b[37m\u001b[0m \u001b[1m1s\u001b[0m 660us/step - accuracy: 0.9134 - loss: 0.2433 - val_accuracy: 0.8740 - val_loss: 0.3555\n",
      "Epoch 26/30\n",
      "\u001b[1m1719/1719\u001b[0m \u001b[32m━━━━━━━━━━━━━━━━━━━━\u001b[0m\u001b[37m\u001b[0m \u001b[1m1s\u001b[0m 648us/step - accuracy: 0.9158 - loss: 0.2388 - val_accuracy: 0.8756 - val_loss: 0.3559\n",
      "Epoch 27/30\n",
      "\u001b[1m1719/1719\u001b[0m \u001b[32m━━━━━━━━━━━━━━━━━━━━\u001b[0m\u001b[37m\u001b[0m \u001b[1m1s\u001b[0m 650us/step - accuracy: 0.9170 - loss: 0.2347 - val_accuracy: 0.8762 - val_loss: 0.3548\n",
      "Epoch 28/30\n",
      "\u001b[1m1719/1719\u001b[0m \u001b[32m━━━━━━━━━━━━━━━━━━━━\u001b[0m\u001b[37m\u001b[0m \u001b[1m1s\u001b[0m 665us/step - accuracy: 0.9184 - loss: 0.2306 - val_accuracy: 0.8774 - val_loss: 0.3533\n",
      "Epoch 29/30\n",
      "\u001b[1m1719/1719\u001b[0m \u001b[32m━━━━━━━━━━━━━━━━━━━━\u001b[0m\u001b[37m\u001b[0m \u001b[1m1s\u001b[0m 654us/step - accuracy: 0.9202 - loss: 0.2264 - val_accuracy: 0.8766 - val_loss: 0.3534\n",
      "Epoch 30/30\n",
      "\u001b[1m1719/1719\u001b[0m \u001b[32m━━━━━━━━━━━━━━━━━━━━\u001b[0m\u001b[37m\u001b[0m \u001b[1m1s\u001b[0m 665us/step - accuracy: 0.9220 - loss: 0.2225 - val_accuracy: 0.8786 - val_loss: 0.3525\n"
     ]
    }
   ],
   "source": [
    "#Now that we have built and compiled the model, we can train it using it's fit() method\n",
    "#the fit method returns a history object containing the training parameters (history.params)\n",
    "#the list of epochs it went through (history.epoch), and most importantly a dictionary\n",
    "#containing the loss and extra metrics it measured at the end of each epoch on the training\n",
    "#and validation set\n",
    "history = model.fit(X_train, y_train, epochs=30,\n",
    "                    validation_data = (X_valid, y_valid))"
   ]
  },
  {
   "cell_type": "code",
   "execution_count": 23,
   "metadata": {},
   "outputs": [
    {
     "data": {
      "text/plain": [
       "<Axes: xlabel='Epoch'>"
      ]
     },
     "execution_count": 23,
     "metadata": {},
     "output_type": "execute_result"
    },
    {
     "data": {
      "text/plain": [
       "<function matplotlib.pyplot.show(close=None, block=None)>"
      ]
     },
     "execution_count": 23,
     "metadata": {},
     "output_type": "execute_result"
    },
    {
     "data": {
      "image/png": "[encoded data removed]",
      "text/plain": [
       "<Figure size 800x500 with 1 Axes>"
      ]
     },
     "metadata": {},
     "output_type": "display_data"
    }
   ],
   "source": [
    "#We can use the history.history attribute to create a pandas dataframe and call its plot()\n",
    "#method to get the learning curves\n",
    "\n",
    "import matplotlib.pyplot as plt\n",
    "import pandas as pd\n",
    "\n",
    "pd.DataFrame(history.history).plot(\n",
    "    figsize=(8,5), xlim=[0,29], ylim=[0,1], grid=True, xlabel =\"Epoch\",\n",
    "    style=[\"r--\",\"r--\",\"b-\",\"b-*\"])\n",
    "plt.show"
   ]
  },
  {
   "cell_type": "markdown",
   "metadata": {},
   "source": [
    "You can see that both the training accuracy and the validation accuracy steadily increase during training, while the training loss and the validation loss decrease. This is good. The validation curves are relatively close to each other at first, but they get further apart over time, which shows that there's a little bit of overfitting. In this particular case, the model looks like it performed better on the validation set than on the training set at the beginning of training, but that's not the case. The validation error is computed at the end of each epoch, so the training curve should be shifted by half an epoch to the left.\n",
    "\n",
    "The training set performance ends up beating the validation eprformance, as is generally the case when you train for long enough. You can tell that the model has not quite converged yet, as the validation loss is still going down, so you should probably continue training. We can do this by simpl calling the fit() method again on the same model, since Keras just continues training where it left off: you should be able to reach about 89.8% validation accruacy, while the training accuracy will continue to rise up to 100%."
   ]
  },
  {
   "cell_type": "markdown",
   "metadata": {},
   "source": [
    "#### Tweaking and Evaluating a NN\n",
    "\n",
    "If you are not satisfied with the performance of your model, you should go back and tune the hyperparameters. The first one being the learning rate. If that doesn't help, try another optimizer (and always retune the learning rate after changing any hyperparameter). If the performance is still not geat, then try tuning model hyperparameters such as the number of layers, the number of neurons per layer, and the types of activation functions to use for each hidden layer.\n",
    "\n",
    "You can also try tuning other hyperparameters, such as the batch size (set in the fit() method using the batch_size argument). Once you are satisfied with your model's validation accuracy, you should evaluate it on the test set to estimate the generalization error before you deploy the model to production. You do this by using the evaluate() method"
   ]
  },
  {
   "cell_type": "code",
   "execution_count": 24,
   "metadata": {},
   "outputs": [
    {
     "name": "stdout",
     "output_type": "stream",
     "text": [
      "\u001b[1m313/313\u001b[0m \u001b[32m━━━━━━━━━━━━━━━━━━━━\u001b[0m\u001b[37m\u001b[0m \u001b[1m0s\u001b[0m 419us/step - accuracy: 0.8731 - loss: 0.3716\n"
     ]
    },
    {
     "data": {
      "text/plain": [
       "[0.37162983417510986, 0.8737000226974487]"
      ]
     },
     "execution_count": 24,
     "metadata": {},
     "output_type": "execute_result"
    }
   ],
   "source": [
    "model.evaluate(X_test, y_test)\n",
    "\n",
    "#remember to resist the temptation to tweak the hyperparameters on the test set, or else your \n",
    "#estimate of the generalization error will be too optimistic"
   ]
  },
  {
   "cell_type": "markdown",
   "metadata": {},
   "source": [
    "#### Using the model to make predictions\n",
    "\n",
    "Now that we have evaluated the model, we can use the predict() method to make predictions on new instances. Since we don't have actual new instances, we'll just use the first three instances of the test set.\n",
    "\n"
   ]
  },
  {
   "cell_type": "code",
   "execution_count": null,
   "metadata": {},
   "outputs": [
    {
     "name": "stdout",
     "output_type": "stream",
     "text": [
      "\u001b[1m1/1\u001b[0m \u001b[32m━━━━━━━━━━━━━━━━━━━━\u001b[0m\u001b[37m\u001b[0m \u001b[1m0s\u001b[0m 13ms/step\n"
     ]
    },
    {
     "data": {
      "text/plain": [
       "array([[0.  , 0.  , 0.  , 0.  , 0.  , 0.31, 0.  , 0.02, 0.  , 0.67],\n",
       "       [0.  , 0.  , 1.  , 0.  , 0.  , 0.  , 0.  , 0.  , 0.  , 0.  ],\n",
       "       [0.  , 1.  , 0.  , 0.  , 0.  , 0.  , 0.  , 0.  , 0.  , 0.  ]],\n",
       "      dtype=float32)"
      ]
     },
     "execution_count": 26,
     "metadata": {},
     "output_type": "execute_result"
    },
    {
     "data": {
      "text/plain": [
       "array([9, 2, 1])"
      ]
     },
     "execution_count": 26,
     "metadata": {},
     "output_type": "execute_result"
    },
    {
     "data": {
      "text/plain": [
       "array(['Ankle boot', 'Pullover', 'Trouser'], dtype='<U11')"
      ]
     },
     "execution_count": 26,
     "metadata": {},
     "output_type": "execute_result"
    }
   ],
   "source": [
    "X_new = X_test[:3]\n",
    "y_proba = model.predict(X_new)\n",
    "y_proba.round(2)\n",
    "\n",
    "#For each instance (subarray) the model estimates one probability per class of object\n",
    "#If we only care about the class with the highest estimated probability (even if it is quite low)\n",
    "#then you can use the argmax method to get highest probability class index for each instance\n",
    "\n",
    "import numpy as np\n",
    "\n",
    "y_pred = y_proba.argmax(axis=-1)\n",
    "y_pred\n",
    "np.array(class_names)[y_pred]\n",
    "\n",
    "#CONTINUE FROM 329"
   ]
  },
  {
   "cell_type": "code",
   "execution_count": 30,
   "metadata": {},
   "outputs": [],
   "source": [
    "#Saving a trained Keras model is simple\n",
    "\n",
    "model.save(\"my_model.keras\")\n",
    "#You will typically have a script that trains a model and saves it, and one or more scripts\n",
    "#that load the model and use it to evaluate it or to make predictions"
   ]
  },
  {
   "cell_type": "code",
   "execution_count": 31,
   "metadata": {},
   "outputs": [],
   "source": [
    "#We can then load the model using the following code\n",
    "\n",
    "loaded_model = tf.keras.models.load_model(\"my_model.keras\")"
   ]
  },
  {
   "cell_type": "markdown",
   "metadata": {},
   "source": [
    "In Summary, we built the Sequential classifier using the following steps. \n",
    "\n",
    "    First, load and preprocess the data by splitting it into training, validation, and test sets (using train_test_split or manual splitting) and scaling the pixel values to the 0-1 range by dividing by 255. \n",
    "    \n",
    "    Then, build the model using tf.keras.Sequential(), adding layers in sequence - typically starting with a Flatten layer to convert 2D image data to 1D, followed by Dense layers with ReLU activation functions for hidden layers, and a final Dense layer with softmax activation for classification output. \n",
    "    \n",
    "    Next, compile the model by specifying the loss function (e.g., 'sparse_categorical_crossentropy' for classification), optimizer (e.g., 'sgd'), and metrics (e.g., 'accuracy') using model.compile(). \n",
    "    \n",
    "    Train the model using model.fit(), providing the training data, number of epochs, and validation data. \n",
    "    \n",
    "    Finally, evaluate the model's performance on the test set using model.evaluate(), and once satisfied, use model.predict() to make predictions on new data."
   ]
  }
 ],
 "metadata": {
  "kernelspec": {
   "display_name": "Python 3",
   "language": "python",
   "name": "python3"
  },
  "language_info": {
   "codemirror_mode": {
    "name": "ipython",
    "version": 3
   },
   "file_extension": ".py",
   "mimetype": "text/x-python",
   "name": "python",
   "nbconvert_exporter": "python",
   "pygments_lexer": "ipython3",
   "version": "3.12.2"
  }
 },
 "nbformat": 4,
 "nbformat_minor": 2
}
