{
 "cells": [
  {
   "cell_type": "code",
   "execution_count": 10,
   "metadata": {},
   "outputs": [
    {
     "name": "stdout",
     "output_type": "stream",
     "text": [
      "Features (X) shape: (70000, 784)\n",
      "Labels (y) shape: (70000,)\n"
     ]
    }
   ],
   "source": [
    "#This code mimicks the fetch_openml function from sklearn.datasets as used in the textbook, \n",
    "\n",
    "from tensorflow.keras.datasets import mnist\n",
    "import numpy as np\n",
    "from sklearn.utils import Bunch\n",
    "\n",
    "# Load the MNIST dataset from TensorFlow\n",
    "(x_train, y_train), (x_test, y_test) = mnist.load_data()\n",
    "\n",
    "# Combine training and test sets\n",
    "X = np.vstack([x_train, x_test])  # Combine image data\n",
    "y = np.hstack([y_train, y_test])  # Combine labels\n",
    "\n",
    "# Flatten 28x28 images to 1D arrays (784 features)\n",
    "X = X.reshape(X.shape[0], -1)\n",
    "\n",
    "# Convert data to float32 (to match fetch_openml)\n",
    "X = X.astype('float32')\n",
    "\n",
    "# Mimic fetch_openml's return format using a Bunch\n",
    "mnist = Bunch(data=X, target=y)\n",
    "#This is the same as the textbook, but the data is now in the same format as the MNIST dataset from TensorFlow.\n",
    "# Access features and target as in the textbook\n",
    "X, y = mnist.data, mnist.target\n",
    "#There are 70,000 images each with 784 features which represents the 28 x 28 pixels. \n",
    "print(\"Features (X) shape:\", X.shape)  # (70000, 784)\n",
    "#Labels contain a single value for each image, indicating it's class. No columns as it is not a multi-dimensional array.\n",
    "print(\"Labels (y) shape:\", y.shape)    # (70000,)\n"
   ]
  },
  {
   "cell_type": "code",
   "execution_count": 14,
   "metadata": {},
   "outputs": [
    {
     "data": {
      "image/png": "[encoded data removed]",
      "text/plain": [
       "<Figure size 640x480 with 1 Axes>"
      ]
     },
     "metadata": {},
     "output_type": "display_data"
    },
    {
     "data": {
      "text/plain": [
       "5"
      ]
     },
     "execution_count": 14,
     "metadata": {},
     "output_type": "execute_result"
    }
   ],
   "source": [
    "#To look at one digit from the dataset, we need to grab an instance's feature vector, reshape it to the 28x28 array, and display\n",
    "#it using matplotlib imshow() function. We use cmap_'binary' as an argument to make a greyscale color ma where 0 is white and 255 is black\n",
    "\n",
    "import matplotlib.pyplot as plt\n",
    "\n",
    "def plot_digit(image_data):\n",
    "    image = image_data.reshape(28,28)\n",
    "    plt.imshow(image, cmap= \"binary\")\n",
    "\n",
    "some_digit = X[0]\n",
    "plot_digit(some_digit)\n",
    "plt.show()\n",
    "\n",
    "y[0]\n",
    "#This is the label for the first image in the dataset. "
   ]
  },
  {
   "cell_type": "code",
   "execution_count": 15,
   "metadata": {},
   "outputs": [],
   "source": [
    "#This step splits the dataset into training and test sets, with the training set containing 60,000 images \n",
    "# and the test set containing 10,000 images.\n",
    "X_train, X_test, y_train, y_test = X[:60000], X[60000:], y[:60000], y[60000:]"
   ]
  },
  {
   "cell_type": "code",
   "execution_count": 24,
   "metadata": {},
   "outputs": [
    {
     "name": "stdout",
     "output_type": "stream",
     "text": [
      "Unique values in y_train_5: {False, True}\n",
      "Unique values in y_train: {0, 1, 2, 3, 4, 5, 6, 7, 8, 9}\n"
     ]
    }
   ],
   "source": [
    "#Training a binary classifier to identify a single digit, say 5, we need to create a target vector for this classification task.\n",
    "#This first step creates the target vectors for our classification task\n",
    "y_train_5 = (y_train == 5)\n",
    "y_test_5 = (y_test == 5)\n",
    "\n",
    "# Check unique values in y_train_5\n",
    "print(\"Unique values in y_train_5:\", set(y_train_5))\n",
    "\n",
    "print(\"Unique values in y_train:\", set(y_train))\n"
   ]
  },
  {
   "cell_type": "code",
   "execution_count": 26,
   "metadata": {},
   "outputs": [
    {
     "data": {
      "text/plain": [
       "array([ True])"
      ]
     },
     "execution_count": 26,
     "metadata": {},
     "output_type": "execute_result"
    }
   ],
   "source": [
    "#Now we have to pick a classifier and train it. In this example we use stochastic gradient descent (SGD)\n",
    "#We do this by using Scikit_Learn's SGDClassifier, which can handle very large datasets efficiently\n",
    "#SGD is well suited for online learning, in this case we create a SGD classifier and train it on the whole training set\n",
    "\n",
    "from sklearn.linear_model import SGDClassifier\n",
    "#Here we assign the variable sgd_clf to this SGDClassifier we create, we can then call methods on this var to train the model\n",
    "sgd_clf = SGDClassifier(random_state = 42)\n",
    "#X_train still represents the features (pixel data of images) regardless of whether you're performing binary or \n",
    "#multiclass classification\n",
    "#model learns patterns in X_train to predict whether the corresponding label in y_train_5 is True or false\n",
    "#y_train_5 is a modified version of y_train labels where it contains true or false if it is 5 or not.\n",
    "sgd_clf.fit (X_train, y_train_5)\n",
    "#we feed the argument of the image of digit 5, the classifier guesses the image represents a 5 (true)\n",
    "sgd_clf.predict([some_digit])\n",
    "\n"
   ]
  },
  {
   "cell_type": "code",
   "execution_count": 28,
   "metadata": {},
   "outputs": [
    {
     "data": {
      "text/plain": [
       "array([0.9353 , 0.9632 , 0.94965])"
      ]
     },
     "execution_count": 28,
     "metadata": {},
     "output_type": "execute_result"
    }
   ],
   "source": [
    "#The next step is evaluating model performance, one way is to use cross_validation\n",
    "#we can use cross_val_score() to evaluate our SGDClassifier model using k-fold cross falidation with 3 folds\n",
    "#Recall, k-fold cross validation means splitting training set into k folds, then training the modle k times, holding\n",
    "#a different fold each time for evaluation\n",
    "\n",
    "from sklearn.model_selection import cross_val_score\n",
    "cross_val_score(sgd_clf, X_train, y_train_5, cv=3, scoring = \"accuracy\")\n",
    "\n",
    "#Output shows accuracy (ratio of correct predictions) for the 3 folds\n"
   ]
  },
  {
   "cell_type": "code",
   "execution_count": 30,
   "metadata": {},
   "outputs": [
    {
     "name": "stdout",
     "output_type": "stream",
     "text": [
      "False\n"
     ]
    },
    {
     "data": {
      "text/plain": [
       "array([0.90965, 0.90965, 0.90965])"
      ]
     },
     "execution_count": 30,
     "metadata": {},
     "output_type": "execute_result"
    }
   ],
   "source": [
    "#The results look good, but what if we compare them to a dummyclassifer that just classifies all images to the most frequent class\n",
    "#In this case it would be negative class (not 5)\n",
    "\n",
    "from sklearn.dummy import DummyClassifier\n",
    "dummy_clf = DummyClassifier()\n",
    "dummy_clf.fit(X_train, y_train_5)\n",
    "print(any(dummy_clf.predict(X_train))) #always gives false\n",
    "\n",
    "#evaluating this model's performance\n",
    "\n",
    "cross_val_score(dummy_clf, X_train, y_train_5, cv = 3, scoring = \"accuracy\")"
   ]
  },
  {
   "cell_type": "code",
   "execution_count": 31,
   "metadata": {},
   "outputs": [],
   "source": [
    "#Results of dummyclassifier show it doesn't perform much worse than our model when using accuracy as the scoring mechanism\n",
    "#Generally, accuracy is not a preferred performance measure for classifiers especially when dealing with skewed datasets\n",
    "#E.g in our case some classes are more frequent than others (false more common than true), a better method is using a confusion matrix\n",
    "\n",
    "#General idea is to count the number of instances where class A are classified as class B, for all A/B pairs\n",
    "#E.g, to know the number of times the classifier confused images of 8s with 0s, you look at row 8, column 0 of the matrix\n",
    "#To compute, we first need a set of predictions to be compared to actual targets using cross_val_predict() function\n",
    "\n",
    "from sklearn.model_selection import cross_val_predict\n",
    "\n",
    "#this function performs k-fold cross-validation, but instead of returning the evaluation scores, it returns the predicitons made on each test fold. \n",
    "#meaning the model makes predictions on data it never saw during training (a clean prediction)\n",
    "y_train_pred = cross_val_predict(sgd_clf, X_train, y_train_5, cv=3)"
   ]
  },
  {
   "cell_type": "code",
   "execution_count": 32,
   "metadata": {},
   "outputs": [
    {
     "data": {
      "text/plain": [
       "array([[52533,  2046],\n",
       "       [  991,  4430]])"
      ]
     },
     "execution_count": 32,
     "metadata": {},
     "output_type": "execute_result"
    }
   ],
   "source": [
    "#We then can create the confusion matrix suing the confusion_matrix() function. We pass the target class y_train_5 and predicted\n",
    "#y_train_pred to do this\n",
    "\n",
    "from sklearn.metrics import confusion_matrix\n",
    "cm = confusion_matrix(y_train_5, y_train_pred)\n",
    "cm\n",
    "#Each row in the confusion matrix represents an actual class, while each column represents a predicted class. First row considers non-5 images\n",
    "#of which 52533 were correctly classified as non 5s and 2046 incorrectly classfied as 5s (false positives)\n",
    "# second row considers images of 5s, positive class\n",
    "#of which 991 were incorrectly classified as non 5s (false negatives), and 4430 were correctly classified (true positives)\n",
    "\n",
    "#A perfect classifier would only have true positives and true negatives, so it would have nonzero values only on \n",
    "# main diagonal of top left to bottom right\n",
    "\n"
   ]
  },
  {
   "cell_type": "code",
   "execution_count": 39,
   "metadata": {},
   "outputs": [
    {
     "name": "stdout",
     "output_type": "stream",
     "text": [
      "0.6840642371834466\n",
      "0.8171923999262128\n"
     ]
    },
    {
     "data": {
      "text/plain": [
       "0.7447255610658149"
      ]
     },
     "execution_count": 39,
     "metadata": {},
     "output_type": "execute_result"
    }
   ],
   "source": [
    "#There are alternative classifier metrics we can use to evaluate our models, such as precision and recall, which can be accessed through \n",
    "#scikitlearn using precision_score and recall_score\n",
    "\n",
    "from sklearn.metrics import precision_score, recall_score\n",
    "\n",
    "print(precision_score(y_train_5, y_train_pred)) #Precision measures the accuracy of positive predictions\n",
    "# In our context: Out of all images that the model predicted as 5, what fraction were actually 5s\n",
    "# Precision = 4,430/(4,430 + 2046) = 0.684\n",
    "# Interpretation: When your model says this is a 5, it's right about 68.4% of the time\n",
    "print(recall_score(y_train_5, y_train_pred)) #Recall score measures how many actual positive cases were correctly identified\n",
    "# In our context: Out of all actual 5s in the dataset, what fraction did the model correctly identify?\n",
    "# Recall = 4,430/(4,430+991) = 81.7%\n",
    "#Interpretation: The model correctly identifies about 81.7% of the actual 5s in the dataset\n",
    "\n",
    "#We may also combine precision and recall into a single metric called the F1 score, which is the harmonic mean of precision and recall\n",
    "#While the regular mean treats all values equally, the harmonic mean gives much more weight to lower values.\n",
    "#Thus, the classifier will only get a high F1 score if both recall and precision are high.\n",
    "\n",
    "from sklearn.metrics import f1_score\n",
    "f1_score(y_train_5, y_train_pred)\n",
    "\n",
    "#F1 score favors classifiers that have similar precision and recall, but this is not always what we want.\n",
    "#For example if we trained a classifier to detect videos that are safe for kids, you would probably prefer a classifier\n",
    "#that rejects many good videos (low recall) but only keeps safe ones (high precision).\n",
    "#On the other hand, a shoplifting classifier would preferably have high recall and lower precision. This means\n",
    "#The security would get a few false alerts but almost all shoplifters will get caught.\n"
   ]
  },
  {
   "cell_type": "code",
   "execution_count": null,
   "metadata": {},
   "outputs": [],
   "source": [
    "#Leave this empty for going back and doing the model comparisons with PR curve and ROC Curve from pg. 116-119"
   ]
  },
  {
   "cell_type": "code",
   "execution_count": null,
   "metadata": {},
   "outputs": [],
   "source": []
  }
 ],
 "metadata": {
  "kernelspec": {
   "display_name": "base",
   "language": "python",
   "name": "python3"
  },
  "language_info": {
   "codemirror_mode": {
    "name": "ipython",
    "version": 3
   },
   "file_extension": ".py",
   "mimetype": "text/x-python",
   "name": "python",
   "nbconvert_exporter": "python",
   "pygments_lexer": "ipython3",
   "version": "3.12.4"
  }
 },
 "nbformat": 4,
 "nbformat_minor": 2
}
